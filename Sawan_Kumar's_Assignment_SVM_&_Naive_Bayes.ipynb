{
  "nbformat": 4,
  "nbformat_minor": 0,
  "metadata": {
    "colab": {
      "provenance": []
    },
    "kernelspec": {
      "name": "python3",
      "display_name": "Python 3"
    },
    "language_info": {
      "name": "python"
    }
  },
  "cells": [
    {
      "cell_type": "code",
      "execution_count": null,
      "metadata": {
        "id": "DLJFqXVxpTXl"
      },
      "outputs": [],
      "source": [
        "# Name - SAWAN KUMAR\n",
        "# E-Mail ID - sawankumar19062001@gmail.com\n",
        "# Contact Number - 8882022191\n",
        "# Course - Data Science with Generative AI\n",
        "# Assignment - SVM & Naive Bayes\n",
        "# Module - 8 (Milestone 3 (Machine Learning))"
      ]
    },
    {
      "cell_type": "code",
      "source": [
        "\n",
        "\n",
        "\n",
        "\n",
        "# Theoretical Questions\n",
        "\n",
        "\n",
        "\n"
      ],
      "metadata": {
        "id": "QwfODf9Iqhuo"
      },
      "execution_count": null,
      "outputs": []
    },
    {
      "cell_type": "markdown",
      "source": [
        "\n",
        "\n",
        "#1. What is a Support Vector Machine (SVM)?  \n",
        "A Support Vector Machine is a supervised machine learning algorithm used primarily for classification, though it can also handle regression.\n",
        ">* It finds the optimal hyperplane that best separates data points of different classes by maximizing the margin (distance) between the hyperplane and the nearest data points, called support vectors.\n",
        "\n",
        "#2. What is the difference between Hard Margin and Soft Margin SVM?  \n",
        "- **Hard Margin SVM**: It finds a hyperplane with the maximum margin but fails if the data has noise or outliers, as it allows no misclassifications.  \n",
        "- **Soft Margin SVM**: It uses a parameter (C) to balance maximizing the margin and minimizing errors, making it more flexible.\n",
        "\n",
        "#3. What is the mathematical intuition behind SVM?  \n",
        "SVM aims to find a hyperplane that separates classes with the largest possible margin.\n",
        ">* For a hyperplane \\( w^T x + b = 0 \\), it minimizes \\( \\frac{1}{2} \\|w\\|^2 \\) (to maximize the margin) while ensuring all points are correctly classified (or minimally misclassified in soft margin).\n",
        ">* For non-linear data, SVM uses kernels to transform data into a higher-dimensional space where a linear boundary can be found.\n",
        "\n",
        "#4. What is the role of Lagrange Multipliers in SVM?  \n",
        "Lagrange Multipliers are used to solve SVM’s constrained optimization problem.\n",
        ">* The goal is to minimize \\( \\frac{1}{2} \\|w\\|^2 \\) subject to constraints \\( y_i(w^T x_i + b) \\geq 1 \\).\n",
        "\n",
        "#5. What are Support Vectors in SVM?  \n",
        "Support vectors are the data points closest to the separating hyperplane. They lie on the margin boundaries (or are misclassified in soft margin SVM) and are critical because they define the position and orientation of the hyperplane.\n",
        "\n",
        "#6. What is a Support Vector Classifier (SVC)?  \n",
        "A Support Vector Classifier is the SVM algorithm used for classification tasks.\n",
        ">* It finds the hyperplane that maximizes the margin between classes, using either linear or kernel-based methods to handle separable or non-separable data, and classifies new points based on which side of the hyperplane they fall.\n",
        "\n",
        "#7. What is a Support Vector Regressor (SVR)?  \n",
        "A Support Vector Regressor is the SVM algorithm adapted for regression. Instead of separating classes, SVR tries to find a function that predicts continuous values within a margin of tolerance (epsilon).\n",
        ">* It minimizes the error while keeping predictions within this margin, using support vectors to define the model.\n",
        "\n",
        "#8. What is the Kernel Trick in SVM?  \n",
        "The Kernel Trick allows SVM to handle non-linearly separable data by implicitly mapping it to a higher-dimensional space where a linear boundary exists.\n",
        "\n",
        "#9. Compare Linear Kernel, Polynomial Kernel, and RBF Kernel.  \n",
        "- **Linear Kernel**: Assumes data is linearly separable; computes a simple dot product (\\( k(x, y) = x^T y \\)). Best for linearly separable data, simple and fast.  \n",
        "- **Polynomial Kernel**: Maps data to a higher-dimensional space using a polynomial function (\\( k(x, y) = (x^T y + c)^d \\)). Suitable for moderately non-linear data, but can be computationally expensive.  \n",
        "- **RBF Kernel**: Uses a Gaussian function (\\( k(x, y) = \\exp(-\\gamma \\|x - y\\|^2) \\)) to handle complex, non-linear data. Highly flexible but sensitive to parameter tuning (gamma).\n",
        "\n",
        "#10. What is the effect of the C parameter in SVM?  \n",
        "The C parameter in soft margin SVM controls the trade-off between maximizing the margin and minimizing classification errors.\n",
        ">* A large C penalizes misclassifications heavily, leading to a smaller margin (closer to hard margin).\n",
        ">* A small C allows more misclassifications, prioritizing a larger margin, which can improve generalization but risk underfitting.\n",
        "\n",
        "#11. What is the role of the Gamma parameter in RBF Kernel SVM?  \n",
        "The gamma parameter in the RBF kernel defines how far the influence of a single training example reaches.\n",
        ">* A high gamma makes the model focus on points close to the decision boundary, leading to a more complex, tightly fitted model (risk of overfitting).\n",
        ">* A low gamma considers points farther away, creating a smoother boundary (risk of underfitting).\n",
        "\n",
        "#12. What is the Naïve Bayes classifier, and why is it called \"Naïve\"?  \n",
        "Naïve Bayes is a probabilistic classifier based on Bayes’ Theorem, predicting class probabilities by assuming features are conditionally independent given the class.\n",
        ">* It’s called \"naïve\" because this independence assumption is often unrealistic in real-world data, yet the model performs well despite this simplification.\n",
        "\n",
        "#13. What is Bayes’ Theorem?  \n",
        "Bayes’ Theorem describes the probability of an event based on prior knowledge. Mathematically, it’s \\( P(A|B) = \\frac{P(B|A) P(A)}{P(B)} \\), where \\( P(A|B) \\) is the posterior probability, \\( P(B|A) \\) is the likelihood, \\( P(A) \\) is the prior, and \\( P(B) \\) is the evidence. In Naïve Bayes, it’s used to compute class probabilities.\n",
        "\n",
        "#14. Explain the differences between Gaussian Naïve Bayes, Multinomial Naïve Bayes, and Bernoulli Naïve Bayes.  \n",
        "- **Gaussian Naïve Bayes**: Assumes continuous features follow a Gaussian (normal) distribution. Used for real-valued data (e.g., measurements).  \n",
        "- **Multinomial Naïve Bayes**: Assumes features represent counts or frequencies (e.g., word counts in text). Common for text classification.  \n",
        "- **Bernoulli Naïve Bayes**: Assumes binary/boolean features (e.g., presence or absence of a feature). Suitable for binary data, like document classification with binary term occurrence.\n",
        "\n",
        "#15. When should you use Gaussian Naïve Bayes over other variants?  \n",
        "Use Gaussian Naïve Bayes when features are continuous and can be reasonably assumed to follow a normal distribution (e.g., measurements like height, weight). It’s less suitable for discrete or binary data, where Multinomial or Bernoulli Naïve Bayes are better choices.\n",
        "\n",
        "#16. What are the key assumptions made by Naïve Bayes?  \n",
        "- **Feature Independence**: Features are conditionally independent given the class label.  \n",
        "- **Equal Feature Importance**: All features contribute equally to the outcome (though weights can be adjusted in some implementations).  \n",
        "- **Appropriate Distribution**: The data follows the assumed distribution (e.g., Gaussian for continuous features, multinomial for counts).\n",
        "\n",
        "#17. What are the advantages and disadvantages of Naïve Bayes?  \n",
        "- **Advantages**: Simple, fast, works well with small datasets, effective for high-dimensional data (e.g., text), robust to irrelevant features.  \n",
        "- **Disadvantages**: Assumes feature independence, which may not hold, leading to suboptimal performance. Struggles with imbalanced data or when the assumed distribution (e.g., Gaussian) doesn’t fit.\n",
        "\n",
        "#18. Why is Naïve Bayes a good choice for text classification?  \n",
        "Naïve Bayes is effective for text classification because it handles high-dimensional data (e.g., word counts) well, is computationally efficient, and performs robustly even with the naïve independence assumption.\n",
        "\n",
        "#19. Compare SVM and Naïve Bayes for classification tasks.  \n",
        "- **SVM**: Finds an optimal hyperplane with maximum margin, excels in complex, non-linear data with kernels. More accurate when data is separable, but computationally intensive and sensitive to parameter tuning.  \n",
        "- **Naïve Bayes**: Probabilistic model, fast, simple, works well with high-dimensional or sparse data (e.g., text). Less accurate if independence assumption is violated, but robust and less sensitive to irrelevant features.  \n",
        "- **Use Case**: Use SVM for complex datasets with clear margins; use Naïve Bayes for quick, text-based, or high-dimensional tasks.\n",
        "\n",
        "#20. How does Laplace Smoothing help in Naïve Bayes?  \n",
        "Laplace Smoothing (add-one smoothing) adds a small constant (usually 1) to feature counts to avoid zero probabilities in Naïve Bayes. This prevents the model from assigning zero probability to unseen feature-class combinations, improving robustness, especially in text classification with rare words."
      ],
      "metadata": {
        "id": "ITr0_qi2qqUx"
      }
    },
    {
      "cell_type": "code",
      "source": [
        "\n",
        "\n",
        "\n",
        "\n",
        "# Practical Questions\n",
        "\n",
        "\n",
        "\n"
      ],
      "metadata": {
        "id": "b9StnMLJ2fSA"
      },
      "execution_count": null,
      "outputs": []
    },
    {
      "cell_type": "code",
      "source": [
        "# 21. Write a Python program to train an SVM Classifier on the Iris dataset and evaluate accuracy\n",
        "\n",
        "from sklearn.datasets import load_iris\n",
        "from sklearn.model_selection import train_test_split\n",
        "from sklearn.svm import SVC\n",
        "from sklearn.metrics import accuracy_score\n",
        "\n",
        "# Load the Iris dataset\n",
        "iris = load_iris()\n",
        "X = iris.data\n",
        "y = iris.target\n",
        "\n",
        "# Split data into training (80%) and testing (20%) sets\n",
        "X_train, X_test, y_train, y_test = train_test_split(X, y, test_size=0.2, random_state=42)\n",
        "\n",
        "# Train SVM classifier with linear kernel\n",
        "svm_classifier = SVC(kernel='linear', random_state=42)\n",
        "svm_classifier.fit(X_train, y_train)\n",
        "\n",
        "# Predict on test set\n",
        "y_pred = svm_classifier.predict(X_test)\n",
        "\n",
        "# Calculate and print accuracy\n",
        "accuracy = accuracy_score(y_test, y_pred)\n",
        "print(f\"Accuracy of SVM Classifier (Linear Kernel) on Iris dataset: {accuracy:.2f}\")"
      ],
      "metadata": {
        "id": "8NZSQWGC2naH",
        "colab": {
          "base_uri": "https://localhost:8080/"
        },
        "outputId": "986eccb0-a7b9-4378-d69c-b1bca3ee2700"
      },
      "execution_count": 1,
      "outputs": [
        {
          "output_type": "stream",
          "name": "stdout",
          "text": [
            "Accuracy of SVM Classifier (Linear Kernel) on Iris dataset: 1.00\n"
          ]
        }
      ]
    },
    {
      "cell_type": "code",
      "source": [
        "# 22. Write a Python program to train two SVM classifiers with Linear and RBF kernels on the Wine dataset, then compare their accuracies\n",
        "\n",
        "from sklearn.datasets import load_wine\n",
        "from sklearn.model_selection import train_test_split\n",
        "from sklearn.svm import SVC\n",
        "from sklearn.metrics import accuracy_score\n",
        "\n",
        "# Load the Wine dataset\n",
        "wine = load_wine()\n",
        "X = wine.data\n",
        "y = wine.target\n",
        "\n",
        "# Split data into training (80%) and testing (20%) sets\n",
        "X_train, X_test, y_train, y_test = train_test_split(X, y, test_size=0.2, random_state=42)\n",
        "\n",
        "# Train SVM classifier with linear kernel\n",
        "svm_linear = SVC(kernel='linear', random_state=42)\n",
        "svm_linear.fit(X_train, y_train)\n",
        "y_pred_linear = svm_linear.predict(X_test)\n",
        "accuracy_linear = accuracy_score(y_test, y_pred_linear)\n",
        "\n",
        "# Train SVM classifier with RBF kernel\n",
        "svm_rbf = SVC(kernel='rbf', random_state=42)\n",
        "svm_rbf.fit(X_train, y_train)\n",
        "y_pred_rbf = svm_rbf.predict(X_test)\n",
        "accuracy_rbf = accuracy_score(y_test, y_pred_rbf)\n",
        "\n",
        "# Compare accuracies\n",
        "print(f\"Accuracy of SVM Classifier (Linear Kernel) on Wine dataset: {accuracy_linear:.2f}\")\n",
        "print(f\"Accuracy of SVM Classifier (RBF Kernel) on Wine dataset: {accuracy_rbf:.2f}\")\n",
        "print(f\"Difference (Linear - RBF): {accuracy_linear - accuracy_rbf:.2f}\")"
      ],
      "metadata": {
        "id": "75M9y0mh2rCW",
        "colab": {
          "base_uri": "https://localhost:8080/"
        },
        "outputId": "f4a83515-9724-4e6d-9724-9a92b51a370e"
      },
      "execution_count": 2,
      "outputs": [
        {
          "output_type": "stream",
          "name": "stdout",
          "text": [
            "Accuracy of SVM Classifier (Linear Kernel) on Wine dataset: 1.00\n",
            "Accuracy of SVM Classifier (RBF Kernel) on Wine dataset: 0.81\n",
            "Difference (Linear - RBF): 0.19\n"
          ]
        }
      ]
    },
    {
      "cell_type": "code",
      "source": [
        "# 23. Write a Python program to train an SVM Regressor (SVR) on a housing dataset and evaluate it using Mean Squared Error (MSE)\n",
        "\n",
        "from sklearn.datasets import fetch_california_housing\n",
        "from sklearn.model_selection import train_test_split\n",
        "from sklearn.svm import SVR\n",
        "from sklearn.metrics import mean_squared_error\n",
        "from sklearn.preprocessing import StandardScaler\n",
        "\n",
        "# Load the California Housing dataset\n",
        "housing = fetch_california_housing()\n",
        "X = housing.data\n",
        "y = housing.target\n",
        "\n",
        "# Scale features for better SVR performance\n",
        "scaler = StandardScaler()\n",
        "X_scaled = scaler.fit_transform(X)\n",
        "\n",
        "# Split data into training (80%) and testing (20%) sets\n",
        "X_train, X_test, y_train, y_test = train_test_split(X_scaled, y, test_size=0.2, random_state=42)\n",
        "\n",
        "# Train SVR with RBF kernel (default for regression)\n",
        "svr = SVR(kernel='rbf')\n",
        "svr.fit(X_train, y_train)\n",
        "\n",
        "# Predict on test set\n",
        "y_pred = svr.predict(X_test)\n",
        "\n",
        "# Calculate and print Mean Squared Error\n",
        "mse = mean_squared_error(y_test, y_pred)\n",
        "print(f\"Mean Squared Error of SVR on California Housing dataset: {mse:.2f}\")"
      ],
      "metadata": {
        "id": "1KXIdzih2tRm",
        "colab": {
          "base_uri": "https://localhost:8080/"
        },
        "outputId": "bc22319c-5f82-43b3-9e2a-60458bad25e5"
      },
      "execution_count": 3,
      "outputs": [
        {
          "output_type": "stream",
          "name": "stdout",
          "text": [
            "Mean Squared Error of SVR on California Housing dataset: 0.36\n"
          ]
        }
      ]
    },
    {
      "cell_type": "code",
      "source": [
        "# 24. Write a Python program to train an SVM Classifier with a Polynomial Kernel and visualize the decision boundary\n",
        "\n",
        "import numpy as np\n",
        "import matplotlib.pyplot as plt\n",
        "from sklearn.datasets import load_iris\n",
        "from sklearn.svm import SVC\n",
        "from sklearn.model_selection import train_test_split\n",
        "\n",
        "# Load Iris dataset and select first two features for 2D visualization\n",
        "iris = load_iris()\n",
        "X = iris.data[:, :2]  # Use only sepal length and width\n",
        "y = iris.target\n",
        "\n",
        "# Split data into training (80%) and testing (20%) sets\n",
        "X_train, X_test, y_train, y_test = train_test_split(X, y, test_size=0.2, random_state=42)\n",
        "\n",
        "# Train SVM classifier with polynomial kernel\n",
        "svm_poly = SVC(kernel='poly', degree=3, random_state=42)\n",
        "svm_poly.fit(X_train, y_train)\n",
        "\n",
        "# Create mesh grid for decision boundary\n",
        "x_min, x_max = X[:, 0].min() - 1, X[:, 0].max() + 1\n",
        "y_min, y_max = X[:, 1].min() - 1, X[:, 1].max() + 1\n",
        "xx, yy = np.meshgrid(np.arange(x_min, x_max, 0.01), np.arange(y_min, y_max, 0.01))\n",
        "\n",
        "# Predict on mesh grid\n",
        "Z = svm_poly.predict(np.c_[xx.ravel(), yy.ravel()])\n",
        "Z = Z.reshape(xx.shape)\n",
        "\n",
        "# Plot decision boundary and points\n",
        "plt.contourf(xx, yy, Z, alpha=0.3, cmap='coolwarm')\n",
        "plt.scatter(X[:, 0], X[:, 1], c=y, edgecolors='k', cmap='coolwarm')\n",
        "plt.xlabel(iris.feature_names[0])\n",
        "plt.ylabel(iris.feature_names[1])\n",
        "plt.title('SVM with Polynomial Kernel Decision Boundary on Iris Dataset')\n",
        "plt.show()"
      ],
      "metadata": {
        "id": "dBnBiSvR2ttI",
        "colab": {
          "base_uri": "https://localhost:8080/",
          "height": 472
        },
        "outputId": "599941e2-0867-44a2-c162-71713478c7c1"
      },
      "execution_count": 4,
      "outputs": [
        {
          "output_type": "display_data",
          "data": {
            "text/plain": [
              "<Figure size 640x480 with 1 Axes>"
            ],
            "image/png": "[encoded data removed]"
          },
          "metadata": {}
        }
      ]
    },
    {
      "cell_type": "code",
      "source": [
        "# 25. Write a Python program to train a Gaussian Naïve Bayes classifier on the Breast Cancer dataset and evaluate accuracy\n",
        "\n",
        "from sklearn.datasets import load_breast_cancer\n",
        "from sklearn.model_selection import train_test_split\n",
        "from sklearn.naive_bayes import GaussianNB\n",
        "from sklearn.metrics import accuracy_score\n",
        "\n",
        "# Load the Breast Cancer dataset\n",
        "cancer = load_breast_cancer()\n",
        "X = cancer.data\n",
        "y = cancer.target\n",
        "\n",
        "# Split data into training (80%) and testing (20%) sets\n",
        "X_train, X_test, y_train, y_test = train_test_split(X, y, test_size=0.2, random_state=42)\n",
        "\n",
        "# Train Gaussian Naïve Bayes classifier\n",
        "gnb = GaussianNB()\n",
        "gnb.fit(X_train, y_train)\n",
        "\n",
        "# Predict on test set\n",
        "y_pred = gnb.predict(X_test)\n",
        "\n",
        "# Calculate and print accuracy\n",
        "accuracy = accuracy_score(y_test, y_pred)\n",
        "print(f\"Accuracy of Gaussian Naïve Bayes on Breast Cancer dataset: {accuracy:.2f}\")"
      ],
      "metadata": {
        "id": "E-xSbpZG24PJ",
        "colab": {
          "base_uri": "https://localhost:8080/"
        },
        "outputId": "c5a5060e-f416-4596-fb4e-f8a7568168e7"
      },
      "execution_count": 5,
      "outputs": [
        {
          "output_type": "stream",
          "name": "stdout",
          "text": [
            "Accuracy of Gaussian Naïve Bayes on Breast Cancer dataset: 0.97\n"
          ]
        }
      ]
    },
    {
      "cell_type": "code",
      "source": [
        "# 26. Write a Python program to train a Multinomial Naïve Bayes classifier for text classification using the 20 Newsgroups dataset.\n",
        "\n",
        "from sklearn.datasets import fetch_20newsgroups\n",
        "from sklearn.feature_extraction.text import TfidfVectorizer\n",
        "from sklearn.naive_bayes import MultinomialNB\n",
        "from sklearn.metrics import accuracy_score\n",
        "\n",
        "# Load a subset of 20 Newsgroups dataset (4 categories for simplicity)\n",
        "categories = ['alt.atheism', 'soc.religion.christian', 'comp.graphics', 'sci.med']\n",
        "newsgroups = fetch_20newsgroups(subset='all', categories=categories, remove=('headers', 'footers', 'quotes'))\n",
        "\n",
        "# Convert text data to TF-IDF features\n",
        "vectorizer = TfidfVectorizer(max_features=2000, stop_words='english')\n",
        "X = vectorizer.fit_transform(newsgroups.data)\n",
        "y = newsgroups.target\n",
        "\n",
        "# Split data into training (80%) and testing (20%) sets\n",
        "X_train, X_test, y_train, y_test = train_test_split(X, y, test_size=0.2, random_state=42)\n",
        "\n",
        "# Train Multinomial Naïve Bayes classifier\n",
        "mnb = MultinomialNB()\n",
        "mnb.fit(X_train, y_train)\n",
        "\n",
        "# Predict on test set\n",
        "y_pred = mnb.predict(X_test)\n",
        "\n",
        "# Calculate and print accuracy\n",
        "accuracy = accuracy_score(y_test, y_pred)\n",
        "print(f\"Accuracy of Multinomial Naïve Bayes on 20 Newsgroups dataset: {accuracy:.2f}\")"
      ],
      "metadata": {
        "id": "XCwG-xpF24BV",
        "colab": {
          "base_uri": "https://localhost:8080/"
        },
        "outputId": "111540e5-cdeb-478f-d132-174a6357ec34"
      },
      "execution_count": 6,
      "outputs": [
        {
          "output_type": "stream",
          "name": "stdout",
          "text": [
            "Accuracy of Multinomial Naïve Bayes on 20 Newsgroups dataset: 0.83\n"
          ]
        }
      ]
    },
    {
      "cell_type": "code",
      "source": [
        "# 27. Write a Python program to train an SVM Classifier with different C values and compare the decision boundaries visually\n",
        "\n",
        "import numpy as np\n",
        "import matplotlib.pyplot as plt\n",
        "from sklearn.datasets import load_iris\n",
        "from sklearn.svm import SVC\n",
        "from sklearn.model_selection import train_test_split\n",
        "\n",
        "# Load Iris dataset and select first two features\n",
        "iris = load_iris()\n",
        "X = iris.data[:, :2]  # Sepal length and width\n",
        "y = iris.target\n",
        "\n",
        "# Split data\n",
        "X_train, X_test, y_train, y_test = train_test_split(X, y, test_size=0.2, random_state=42)\n",
        "\n",
        "# Define C values\n",
        "C_values = [0.1, 1, 10]\n",
        "\n",
        "# Plot decision boundaries\n",
        "plt.figure(figsize=(15, 5))\n",
        "for i, C in enumerate(C_values, 1):\n",
        "    # Train SVM with linear kernel\n",
        "    svm = SVC(kernel='linear', C=C, random_state=42)\n",
        "    svm.fit(X_train, y_train)\n",
        "\n",
        "    # Create mesh grid\n",
        "    x_min, x_max = X[:, 0].min() - 1, X[:, 0].max() + 1\n",
        "    y_min, y_max = X[:, 1].min() - 1, X[:, 1].max() + 1\n",
        "    xx, yy = np.meshgrid(np.arange(x_min, x_max, 0.01), np.arange(y_min, y_max, 0.01))\n",
        "\n",
        "    # Predict on mesh\n",
        "    Z = svm.predict(np.c_[xx.ravel(), yy.ravel()])\n",
        "    Z = Z.reshape(xx.shape)\n",
        "\n",
        "    # Plot\n",
        "    plt.subplot(1, 3, i)\n",
        "    plt.contourf(xx, yy, Z, alpha=0.3, cmap='coolwarm')\n",
        "    plt.scatter(X[:, 0], X[:, 1], c=y, edgecolors='k', cmap='coolwarm')\n",
        "    plt.title(f'SVM Decision Boundary (C={C})')\n",
        "    plt.xlabel('Sepal Length')\n",
        "    plt.ylabel('Sepal Width')\n",
        "\n",
        "plt.tight_layout()\n",
        "plt.show()"
      ],
      "metadata": {
        "id": "0CMgCExL23zN",
        "colab": {
          "base_uri": "https://localhost:8080/",
          "height": 425
        },
        "outputId": "6689cf24-cbd7-4f59-d997-2df4acaf610c"
      },
      "execution_count": 7,
      "outputs": [
        {
          "output_type": "display_data",
          "data": {
            "text/plain": [
              "<Figure size 1500x500 with 3 Axes>"
            ],
            "image/png": "[encoded data removed]"
          },
          "metadata": {}
        }
      ]
    },
    {
      "cell_type": "code",
      "source": [
        "# 28. Write a Python program to train a Bernoulli Naïve Bayes classifier for binary classification on a dataset with binary features\n",
        "\n",
        "from sklearn.datasets import make_classification\n",
        "from sklearn.model_selection import train_test_split\n",
        "from sklearn.naive_bayes import BernoulliNB\n",
        "from sklearn.metrics import accuracy_score\n",
        "import numpy as np\n",
        "\n",
        "# Generate synthetic binary dataset\n",
        "X, y = make_classification(n_samples=1000, n_features=10, n_informative=5, n_redundant=0, random_state=42)\n",
        "X = (X > 0).astype(int)  # Convert to binary features\n",
        "\n",
        "# Split data\n",
        "X_train, X_test, y_train, y_test = train_test_split(X, y, test_size=0.2, random_state=42)\n",
        "\n",
        "# Train Bernoulli Naïve Bayes\n",
        "bnb = BernoulliNB()\n",
        "bnb.fit(X_train, y_train)\n",
        "\n",
        "# Predict and evaluate\n",
        "y_pred = bnb.predict(X_test)\n",
        "accuracy = accuracy_score(y_test, y_pred)\n",
        "print(f\"Accuracy of Bernoulli Naïve Bayes: {accuracy:.2f}\")"
      ],
      "metadata": {
        "id": "w0uIPvyT23lt",
        "colab": {
          "base_uri": "https://localhost:8080/"
        },
        "outputId": "d116e237-955b-4d5d-a866-b626f81c8378"
      },
      "execution_count": 8,
      "outputs": [
        {
          "output_type": "stream",
          "name": "stdout",
          "text": [
            "Accuracy of Bernoulli Naïve Bayes: 0.67\n"
          ]
        }
      ]
    },
    {
      "cell_type": "code",
      "source": [
        "# 29. Write a Python program to apply feature scaling before training an SVM model and compare results with unscaled data\n",
        "\n",
        "from sklearn.datasets import load_wine\n",
        "from sklearn.model_selection import train_test_split\n",
        "from sklearn.svm import SVC\n",
        "from sklearn.preprocessing import StandardScaler\n",
        "from sklearn.metrics import accuracy_score\n",
        "\n",
        "# Load Wine dataset\n",
        "wine = load_wine()\n",
        "X = wine.data\n",
        "y = wine.target\n",
        "\n",
        "# Split data\n",
        "X_train, X_test, y_train, y_test = train_test_split(X, y, test_size=0.2, random_state=42)\n",
        "\n",
        "# Train SVM without scaling\n",
        "svm_unscaled = SVC(kernel='rbf', random_state=42)\n",
        "svm_unscaled.fit(X_train, y_train)\n",
        "y_pred_unscaled = svm_unscaled.predict(X_test)\n",
        "accuracy_unscaled = accuracy_score(y_test, y_pred_unscaled)\n",
        "\n",
        "# Scale features and train SVM\n",
        "scaler = StandardScaler()\n",
        "X_train_scaled = scaler.fit_transform(X_train)\n",
        "X_test_scaled = scaler.transform(X_test)\n",
        "svm_scaled = SVC(kernel='rbf', random_state=42)\n",
        "svm_scaled.fit(X_train_scaled, y_train)\n",
        "y_pred_scaled = svm_scaled.predict(X_test_scaled)\n",
        "accuracy_scaled = accuracy_score(y_test, y_pred_scaled)\n",
        "\n",
        "# Compare results\n",
        "print(f\"Accuracy without scaling: {accuracy_unscaled:.2f}\")\n",
        "print(f\"Accuracy with scaling: {accuracy_scaled:.2f}\")"
      ],
      "metadata": {
        "id": "esHlVCxM23X-",
        "colab": {
          "base_uri": "https://localhost:8080/"
        },
        "outputId": "a72f9631-19e1-4125-9564-85caffc872a3"
      },
      "execution_count": 9,
      "outputs": [
        {
          "output_type": "stream",
          "name": "stdout",
          "text": [
            "Accuracy without scaling: 0.81\n",
            "Accuracy with scaling: 1.00\n"
          ]
        }
      ]
    },
    {
      "cell_type": "code",
      "source": [
        "# 30. Write a Python program to train a Gaussian Naïve Bayes model and compare the predictions before and after Laplace Smoothing\n",
        "\n",
        "from sklearn.datasets import load_breast_cancer\n",
        "from sklearn.model_selection import train_test_split\n",
        "from sklearn.naive_bayes import GaussianNB\n",
        "from sklearn.metrics import accuracy_score\n",
        "\n",
        "# Load Breast Cancer dataset\n",
        "cancer = load_breast_cancer()\n",
        "X = cancer.data\n",
        "y = cancer.target\n",
        "\n",
        "# Split data\n",
        "X_train, X_test, y_train, y_test = train_test_split(X, y, test_size=0.2, random_state=42)\n",
        "\n",
        "# Train Gaussian NB without smoothing (var_smoothing=0)\n",
        "gnb_no_smooth = GaussianNB(var_smoothing=0)\n",
        "gnb_no_smooth.fit(X_train, y_train)\n",
        "y_pred_no_smooth = gnb_no_smooth.predict(X_test)\n",
        "accuracy_no_smooth = accuracy_score(y_test, y_pred_no_smooth)\n",
        "\n",
        "# Train Gaussian NB with default smoothing\n",
        "gnb_smooth = GaussianNB()  # Default var_smoothing=1e-9\n",
        "gnb_smooth.fit(X_train, y_train)\n",
        "y_pred_smooth = gnb_smooth.predict(X_test)\n",
        "accuracy_smooth = accuracy_score(y_test, y_pred_smooth)\n",
        "\n",
        "# Compare results\n",
        "print(f\"Accuracy without Laplace smoothing: {accuracy_no_smooth:.2f}\")\n",
        "print(f\"Accuracy with Laplace smoothing: {accuracy_smooth:.2f}\")"
      ],
      "metadata": {
        "id": "6vl_-a6k23Ju",
        "colab": {
          "base_uri": "https://localhost:8080/"
        },
        "outputId": "c78373de-0876-416f-9d8a-dc1f3af75d52"
      },
      "execution_count": 10,
      "outputs": [
        {
          "output_type": "stream",
          "name": "stdout",
          "text": [
            "Accuracy without Laplace smoothing: 0.96\n",
            "Accuracy with Laplace smoothing: 0.97\n"
          ]
        }
      ]
    },
    {
      "cell_type": "code",
      "source": [
        "# 31. Write a Python program to train an SVM Classifier and use GridSearchCV to tune the hyperparameters (C, gamma, kernel)\n",
        "\n",
        "from sklearn.datasets import load_iris\n",
        "from sklearn.model_selection import train_test_split, GridSearchCV\n",
        "from sklearn.svm import SVC\n",
        "from sklearn.metrics import accuracy_score\n",
        "\n",
        "# Load Iris dataset\n",
        "iris = load_iris()\n",
        "X = iris.data\n",
        "y = iris.target\n",
        "\n",
        "# Split data\n",
        "X_train, X_test, y_train, y_test = train_test_split(X, y, test_size=0.2, random_state=42)\n",
        "\n",
        "# Define parameter grid\n",
        "param_grid = {\n",
        "    'C': [0.1, 1, 10],\n",
        "    'gamma': ['scale', 'auto'],\n",
        "    'kernel': ['linear', 'rbf']\n",
        "}\n",
        "\n",
        "# Perform GridSearchCV\n",
        "svm = SVC(random_state=42)\n",
        "grid_search = GridSearchCV(svm, param_grid, cv=5, scoring='accuracy')\n",
        "grid_search.fit(X_train, y_train)\n",
        "\n",
        "# Best model predictions\n",
        "y_pred = grid_search.best_estimator_.predict(X_test)\n",
        "accuracy = accuracy_score(y_test, y_pred)\n",
        "\n",
        "# Print results\n",
        "print(f\"Best parameters: {grid_search.best_params_}\")\n",
        "print(f\"Accuracy with tuned SVM: {accuracy:.2f}\")"
      ],
      "metadata": {
        "id": "OJtzj4lY227e",
        "colab": {
          "base_uri": "https://localhost:8080/"
        },
        "outputId": "3f558850-1be3-4ed3-ec34-6dd9e20760c7"
      },
      "execution_count": 11,
      "outputs": [
        {
          "output_type": "stream",
          "name": "stdout",
          "text": [
            "Best parameters: {'C': 1, 'gamma': 'scale', 'kernel': 'linear'}\n",
            "Accuracy with tuned SVM: 1.00\n"
          ]
        }
      ]
    },
    {
      "cell_type": "code",
      "source": [
        "# 32. Write a Python program to train an SVM Classifier on an imbalanced dataset and apply class weighting and check it improve accuracy\n",
        "\n",
        "from sklearn.datasets import make_classification\n",
        "from sklearn.model_selection import train_test_split\n",
        "from sklearn.svm import SVC\n",
        "from sklearn.metrics import accuracy_score\n",
        "\n",
        "# Generate imbalanced dataset\n",
        "X, y = make_classification(n_samples=1000, n_classes=2, weights=[0.9, 0.1], random_state=42)\n",
        "\n",
        "# Split data\n",
        "X_train, X_test, y_train, y_test = train_test_split(X, y, test_size=0.2, random_state=42)\n",
        "\n",
        "# Train SVM without class weighting\n",
        "svm_unweighted = SVC(kernel='rbf', random_state=42)\n",
        "svm_unweighted.fit(X_train, y_train)\n",
        "y_pred_unweighted = svm_unweighted.predict(X_test)\n",
        "accuracy_unweighted = accuracy_score(y_test, y_pred_unweighted)\n",
        "\n",
        "# Train SVM with class weighting\n",
        "svm_weighted = SVC(kernel='rbf', class_weight='balanced', random_state=42)\n",
        "svm_weighted.fit(X_train, y_train)\n",
        "y_pred_weighted = svm_weighted.predict(X_test)\n",
        "accuracy_weighted = accuracy_score(y_test, y_pred_weighted)\n",
        "\n",
        "# Compare results\n",
        "print(f\"Accuracy without class weighting: {accuracy_unweighted:.2f}\")\n",
        "print(f\"Accuracy with class weighting: {accuracy_weighted:.2f}\")"
      ],
      "metadata": {
        "id": "LY5z9FhF22st",
        "colab": {
          "base_uri": "https://localhost:8080/"
        },
        "outputId": "4ddc892e-d874-4860-e075-a81103e9ebbf"
      },
      "execution_count": 12,
      "outputs": [
        {
          "output_type": "stream",
          "name": "stdout",
          "text": [
            "Accuracy without class weighting: 0.90\n",
            "Accuracy with class weighting: 0.90\n"
          ]
        }
      ]
    },
    {
      "cell_type": "code",
      "source": [
        "# 33. Write a Python program to implement a Naïve Bayes classifier for spam detection using email data\n",
        "\n",
        "from sklearn.feature_extraction.text import TfidfVectorizer\n",
        "from sklearn.naive_bayes import MultinomialNB\n",
        "from sklearn.model_selection import train_test_split\n",
        "from sklearn.metrics import accuracy_score\n",
        "import pandas as pd\n",
        "\n",
        "# Load SMS Spam Collection dataset (assumes dataset is downloaded)\n",
        "# Download from: https://archive.ics.uci.edu/ml/datasets/SMS+Spam+Collection\n",
        "# For simplicity, using a small synthetic example if file not available\n",
        "try:\n",
        "    df = pd.read_csv('SMSSpamCollection', sep='\\t', names=['label', 'text'])\n",
        "except FileNotFoundError:\n",
        "    data = {'text': ['win free money', 'hi how are you', 'claim prize now', 'meet me tomorrow'],\n",
        "            'label': ['spam', 'ham', 'spam', 'ham']}\n",
        "    df = pd.DataFrame(data)\n",
        "\n",
        "# Convert labels to binary\n",
        "df['label'] = df['label'].map({'ham': 0, 'spam': 1})\n",
        "\n",
        "# Vectorize text\n",
        "vectorizer = TfidfVectorizer(stop_words='english')\n",
        "X = vectorizer.fit_transform(df['text'])\n",
        "y = df['label']\n",
        "\n",
        "# Split data\n",
        "X_train, X_test, y_train, y_test = train_test_split(X, y, test_size=0.2, random_state=42)\n",
        "\n",
        "# Train Multinomial NB\n",
        "mnb = MultinomialNB()\n",
        "mnb.fit(X_train, y_train)\n",
        "\n",
        "# Predict and evaluate\n",
        "y_pred = mnb.predict(X_test)\n",
        "accuracy = accuracy_score(y_test, y_pred)\n",
        "print(f\"Accuracy of Multinomial NB for spam detection: {accuracy:.2f}\")"
      ],
      "metadata": {
        "id": "QdREuxUi22d9",
        "colab": {
          "base_uri": "https://localhost:8080/"
        },
        "outputId": "18445451-429e-4086-958f-47cb7a02e362"
      },
      "execution_count": 13,
      "outputs": [
        {
          "output_type": "stream",
          "name": "stdout",
          "text": [
            "Accuracy of Multinomial NB for spam detection: 0.00\n"
          ]
        }
      ]
    },
    {
      "cell_type": "code",
      "source": [
        "# 34. Write a Python program to train an SVM Classifier and a Naïve Bayes Classifier on the same dataset and compare their accuracy\n",
        "\n",
        "from sklearn.datasets import load_breast_cancer\n",
        "from sklearn.model_selection import train_test_split\n",
        "from sklearn.svm import SVC\n",
        "from sklearn.naive_bayes import GaussianNB\n",
        "from sklearn.metrics import accuracy_score\n",
        "\n",
        "# Load Breast Cancer dataset\n",
        "cancer = load_breast_cancer()\n",
        "X = cancer.data\n",
        "y = cancer.target\n",
        "\n",
        "# Split data\n",
        "X_train, X_test, y_train, y_test = train_test_split(X, y, test_size=0.2, random_state=42)\n",
        "\n",
        "# Train SVM\n",
        "svm = SVC(kernel='rbf', random_state=42)\n",
        "svm.fit(X_train, y_train)\n",
        "y_pred_svm = svm.predict(X_test)\n",
        "accuracy_svm = accuracy_score(y_test, y_pred_svm)\n",
        "\n",
        "# Train Gaussian NB\n",
        "gnb = GaussianNB()\n",
        "gnb.fit(X_train, y_train)\n",
        "y_pred_gnb = gnb.predict(X_test)\n",
        "accuracy_gnb = accuracy_score(y_test, y_pred_gnb)\n",
        "\n",
        "# Compare results\n",
        "print(f\"Accuracy of SVM: {accuracy_svm:.2f}\")\n",
        "print(f\"Accuracy of Gaussian NB: {accuracy_gnb:.2f}\")"
      ],
      "metadata": {
        "id": "zn7QY-qP22O2",
        "colab": {
          "base_uri": "https://localhost:8080/"
        },
        "outputId": "6364439f-6083-419f-fb91-d3032cee0129"
      },
      "execution_count": 14,
      "outputs": [
        {
          "output_type": "stream",
          "name": "stdout",
          "text": [
            "Accuracy of SVM: 0.95\n",
            "Accuracy of Gaussian NB: 0.97\n"
          ]
        }
      ]
    },
    {
      "cell_type": "code",
      "source": [
        "# 35. Write a Python program to perform feature selection before training a Naïve Bayes classifier and compare results\n",
        "\n",
        "from sklearn.datasets import load_wine\n",
        "from sklearn.model_selection import train_test_split\n",
        "from sklearn.naive_bayes import GaussianNB\n",
        "from sklearn.feature_selection import SelectKBest, f_classif\n",
        "from sklearn.metrics import accuracy_score\n",
        "\n",
        "# Load Wine dataset\n",
        "wine = load_wine()\n",
        "X = wine.data\n",
        "y = wine.target\n",
        "\n",
        "# Split data\n",
        "X_train, X_test, y_train, y_test = train_test_split(X, y, test_size=0.2, random_state=42)\n",
        "\n",
        "# Train Gaussian NB without feature selection\n",
        "gnb = GaussianNB()\n",
        "gnb.fit(X_train, y_train)\n",
        "y_pred = gnb.predict(X_test)\n",
        "accuracy_no_selection = accuracy_score(y_test, y_pred)\n",
        "\n",
        "# Perform feature selection\n",
        "selector = SelectKBest(f_classif, k=5)\n",
        "X_train_selected = selector.fit_transform(X_train, y_train)\n",
        "X_test_selected = selector.transform(X_test)\n",
        "\n",
        "# Train Gaussian NB with feature selection\n",
        "gnb_selected = GaussianNB()\n",
        "gnb_selected.fit(X_train_selected, y_train)\n",
        "y_pred_selected = gnb_selected.predict(X_test_selected)\n",
        "accuracy_selection = accuracy_score(y_test, y_pred_selected)\n",
        "\n",
        "# Compare results\n",
        "print(f\"Accuracy without feature selection: {accuracy_no_selection:.2f}\")\n",
        "print(f\"Accuracy with feature selection: {accuracy_selection:.2f}\")"
      ],
      "metadata": {
        "id": "ahMdrQvS216G",
        "colab": {
          "base_uri": "https://localhost:8080/"
        },
        "outputId": "3060deeb-b68d-414d-8d54-fc119298cb77"
      },
      "execution_count": 15,
      "outputs": [
        {
          "output_type": "stream",
          "name": "stdout",
          "text": [
            "Accuracy without feature selection: 1.00\n",
            "Accuracy with feature selection: 0.94\n"
          ]
        }
      ]
    },
    {
      "cell_type": "code",
      "source": [
        "# 36. Write a Python program to train an SVM Classifier using One-vs-Rest (OvR) and One-vs-One (OvO) strategies on the Wine dataset and compare their accuracy\n",
        "\n",
        "from sklearn.datasets import load_wine\n",
        "from sklearn.model_selection import train_test_split\n",
        "from sklearn.svm import SVC\n",
        "from sklearn.multiclass import OneVsRestClassifier, OneVsOneClassifier\n",
        "from sklearn.metrics import accuracy_score\n",
        "\n",
        "# Load Wine dataset\n",
        "wine = load_wine()\n",
        "X = wine.data\n",
        "y = wine.target\n",
        "\n",
        "# Split data\n",
        "X_train, X_test, y_train, y_test = train_test_split(X, y, test_size=0.2, random_state=42)\n",
        "\n",
        "# Train SVM with OvR\n",
        "svm_ovr = OneVsRestClassifier(SVC(kernel='rbf', random_state=42))\n",
        "svm_ovr.fit(X_train, y_train)\n",
        "y_pred_ovr = svm_ovr.predict(X_test)\n",
        "accuracy_ovr = accuracy_score(y_test, y_pred_ovr)\n",
        "\n",
        "# Train SVM with OvO\n",
        "svm_ovo = OneVsOneClassifier(SVC(kernel='rbf', random_state=42))\n",
        "svm_ovo.fit(X_train, y_train)\n",
        "y_pred_ovo = svm_ovo.predict(X_test)\n",
        "accuracy_ovo = accuracy_score(y_test, y_pred_ovo)\n",
        "\n",
        "# Compare results\n",
        "print(f\"Accuracy with OvR: {accuracy_ovr:.2f}\")\n",
        "print(f\"Accuracy with OvO: {accuracy_ovo:.2f}\")"
      ],
      "metadata": {
        "id": "0quuJdBb21rl",
        "colab": {
          "base_uri": "https://localhost:8080/"
        },
        "outputId": "73d82da5-1565-4f78-fad6-e7f127166984"
      },
      "execution_count": 16,
      "outputs": [
        {
          "output_type": "stream",
          "name": "stdout",
          "text": [
            "Accuracy with OvR: 0.78\n",
            "Accuracy with OvO: 0.83\n"
          ]
        }
      ]
    },
    {
      "cell_type": "code",
      "source": [
        "# 37. Write a Python program to train an SVM Classifier using Linear, Polynomial, and RBF kernels on the Breast Cancer dataset and compare their accuracy\n",
        "\n",
        "from sklearn.datasets import load_breast_cancer\n",
        "from sklearn.model_selection import train_test_split\n",
        "from sklearn.svm import SVC\n",
        "from sklearn.metrics import accuracy_score\n",
        "\n",
        "# Load Breast Cancer dataset\n",
        "cancer = load_breast_cancer()\n",
        "X = cancer.data\n",
        "y = cancer.target\n",
        "\n",
        "# Split data\n",
        "X_train, X_test, y_train, y_test = train_test_split(X, y, test_size=0.2, random_state=42)\n",
        "\n",
        "# Train SVM with linear kernel\n",
        "svm_linear = SVC(kernel='linear', random_state=42)\n",
        "svm_linear.fit(X_train, y_train)\n",
        "y_pred_linear = svm_linear.predict(X_test)\n",
        "accuracy_linear = accuracy_score(y_test, y_pred_linear)\n",
        "\n",
        "# Train SVM with polynomial kernel\n",
        "svm_poly = SVC(kernel='poly', degree=3, random_state=42)\n",
        "svm_poly.fit(X_train, y_train)\n",
        "y_pred_poly = svm_poly.predict(X_test)\n",
        "accuracy_poly = accuracy_score(y_test, y_pred_poly)\n",
        "\n",
        "# Train SVM with RBF kernel\n",
        "svm_rbf = SVC(kernel='rbf', random_state=42)\n",
        "svm_rbf.fit(X_train, y_train)\n",
        "y_pred_rbf = svm_rbf.predict(X_test)\n",
        "accuracy_rbf = accuracy_score(y_test, y_pred_rbf)\n",
        "\n",
        "# Compare results\n",
        "print(f\"Accuracy with Linear Kernel: {accuracy_linear:.2f}\")\n",
        "print(f\"Accuracy with Polynomial Kernel: {accuracy_poly:.2f}\")\n",
        "print(f\"Accuracy with RBF Kernel: {accuracy_rbf:.2f}\")"
      ],
      "metadata": {
        "id": "KPNLX0k621dd",
        "colab": {
          "base_uri": "https://localhost:8080/"
        },
        "outputId": "1b19039e-997b-45da-d179-dfff1bf3f003"
      },
      "execution_count": 17,
      "outputs": [
        {
          "output_type": "stream",
          "name": "stdout",
          "text": [
            "Accuracy with Linear Kernel: 0.96\n",
            "Accuracy with Polynomial Kernel: 0.95\n",
            "Accuracy with RBF Kernel: 0.95\n"
          ]
        }
      ]
    },
    {
      "cell_type": "code",
      "source": [
        "# 38. Write a Python program to train an SVM Classifier using Stratified K-Fold Cross-Validation and compute the average accuracy\n",
        "\n",
        "from sklearn.datasets import load_iris\n",
        "from sklearn.model_selection import StratifiedKFold\n",
        "from sklearn.svm import SVC\n",
        "from sklearn.metrics import accuracy_score\n",
        "import numpy as np\n",
        "\n",
        "# Load Iris dataset\n",
        "iris = load_iris()\n",
        "X = iris.data\n",
        "y = iris.target\n",
        "\n",
        "# Initialize SVM and Stratified K-Fold\n",
        "svm = SVC(kernel='rbf', random_state=42)\n",
        "skf = StratifiedKFold(n_splits=5, shuffle=True, random_state=42)\n",
        "\n",
        "# Store accuracies\n",
        "accuracies = []\n",
        "\n",
        "# Perform cross-validation\n",
        "for train_index, test_index in skf.split(X, y):\n",
        "    X_train, X_test = X[train_index], X[test_index]\n",
        "    y_train, y_test = y[train_index], y[test_index]\n",
        "\n",
        "    # Train and evaluate\n",
        "    svm.fit(X_train, y_train)\n",
        "    y_pred = svm.predict(X_test)\n",
        "    accuracies.append(accuracy_score(y_test, y_pred))\n",
        "\n",
        "# Calculate average accuracy\n",
        "avg_accuracy = np.mean(accuracies)\n",
        "print(f\"Average accuracy with Stratified K-Fold: {avg_accuracy:.2f}\")"
      ],
      "metadata": {
        "id": "FMU4iFIm21Pf",
        "colab": {
          "base_uri": "https://localhost:8080/"
        },
        "outputId": "af704137-aeec-4842-c258-5e31657f1d22"
      },
      "execution_count": 18,
      "outputs": [
        {
          "output_type": "stream",
          "name": "stdout",
          "text": [
            "Average accuracy with Stratified K-Fold: 0.97\n"
          ]
        }
      ]
    },
    {
      "cell_type": "code",
      "source": [
        "# 39. Write a Python program to train a Naïve Bayes classifier using different prior probabilities and compare performance\n",
        "\n",
        "from sklearn.datasets import load_wine\n",
        "from sklearn.model_selection import train_test_split\n",
        "from sklearn.naive_bayes import GaussianNB\n",
        "from sklearn.metrics import accuracy_score\n",
        "import numpy as np\n",
        "\n",
        "# Load Wine dataset\n",
        "wine = load_wine()\n",
        "X = wine.data\n",
        "y = wine.target\n",
        "\n",
        "# Split data\n",
        "X_train, X_test, y_train, y_test = train_test_split(X, y, test_size=0.2, random_state=42)\n",
        "\n",
        "# Define different prior probabilities\n",
        "priors_list = [\n",
        "    None,  # Default (uniform)\n",
        "    [0.5, 0.25, 0.25],  # Custom prior\n",
        "    [0.1, 0.8, 0.1]  # Another custom prior\n",
        "]\n",
        "\n",
        "# Train and evaluate for each prior\n",
        "for i, priors in enumerate(priors_list):\n",
        "    gnb = GaussianNB(priors=priors)\n",
        "    gnb.fit(X_train, y_train)\n",
        "    y_pred = gnb.predict(X_test)\n",
        "    accuracy = accuracy_score(y_test, y_pred)\n",
        "    print(f\"Accuracy with priors {priors}: {accuracy:.2f}\")"
      ],
      "metadata": {
        "id": "41D2qB-b21BG",
        "colab": {
          "base_uri": "https://localhost:8080/"
        },
        "outputId": "46aa0a82-2126-4c5e-b149-913afaed9385"
      },
      "execution_count": 19,
      "outputs": [
        {
          "output_type": "stream",
          "name": "stdout",
          "text": [
            "Accuracy with priors None: 1.00\n",
            "Accuracy with priors [0.5, 0.25, 0.25]: 0.97\n",
            "Accuracy with priors [0.1, 0.8, 0.1]: 1.00\n"
          ]
        }
      ]
    },
    {
      "cell_type": "code",
      "source": [
        "# 40. Write a Python program to perform Recursive Feature Elimination (RFE) before training an SVM Classifier and compare accuracy\n",
        "\n",
        "from sklearn.datasets import load_wine\n",
        "from sklearn.model_selection import train_test_split\n",
        "from sklearn.svm import SVC\n",
        "from sklearn.feature_selection import RFE\n",
        "from sklearn.metrics import accuracy_score\n",
        "\n",
        "# Load Wine dataset\n",
        "wine = load_wine()\n",
        "X = wine.data\n",
        "y = wine.target\n",
        "\n",
        "# Split data\n",
        "X_train, X_test, y_train, y_test = train_test_split(X, y, test_size=0.2, random_state=42)\n",
        "\n",
        "# Train SVM without RFE\n",
        "svm = SVC(kernel='rbf', random_state=42)\n",
        "svm.fit(X_train, y_train)\n",
        "y_pred = svm.predict(X_test)\n",
        "accuracy_no_rfe = accuracy_score(y_test, y_pred)\n",
        "\n",
        "# Perform RFE\n",
        "rfe = RFE(estimator=SVC(kernel='linear', random_state=42), n_features_to_select=5)\n",
        "X_train_rfe = rfe.fit_transform(X_train, y_train)\n",
        "X_test_rfe = rfe.transform(X_test)\n",
        "\n",
        "# Train SVM with RFE\n",
        "svm_rfe = SVC(kernel='rbf', random_state=42)\n",
        "svm_rfe.fit(X_train_rfe, y_train)\n",
        "y_pred_rfe = svm_rfe.predict(X_test_rfe)\n",
        "accuracy_rfe = accuracy_score(y_test, y_pred_rfe)\n",
        "\n",
        "# Compare results\n",
        "print(f\"Accuracy without RFE: {accuracy_no_rfe:.2f}\")\n",
        "print(f\"Accuracy with RFE: {accuracy_rfe:.2f}\")"
      ],
      "metadata": {
        "id": "afCdPTCP20zG",
        "colab": {
          "base_uri": "https://localhost:8080/"
        },
        "outputId": "cf44dbed-eb9e-4562-d275-1930492a848c"
      },
      "execution_count": 20,
      "outputs": [
        {
          "output_type": "stream",
          "name": "stdout",
          "text": [
            "Accuracy without RFE: 0.81\n",
            "Accuracy with RFE: 0.94\n"
          ]
        }
      ]
    },
    {
      "cell_type": "code",
      "source": [
        "# 41. Write a Python program to train an SVM Classifier and evaluate its performance using Precision, Recall, and F1-Score instead of accuracy\n",
        "\n",
        "from sklearn.datasets import load_breast_cancer\n",
        "from sklearn.model_selection import train_test_split\n",
        "from sklearn.svm import SVC\n",
        "from sklearn.metrics import precision_score, recall_score, f1_score\n",
        "\n",
        "# Load Breast Cancer dataset\n",
        "cancer = load_breast_cancer()\n",
        "X = cancer.data\n",
        "y = cancer.target\n",
        "\n",
        "# Split data\n",
        "X_train, X_test, y_train, y_test = train_test_split(X, y, test_size=0.2, random_state=42)\n",
        "\n",
        "# Train SVM\n",
        "svm = SVC(kernel='rbf', random_state=42)\n",
        "svm.fit(X_train, y_train)\n",
        "y_pred = svm.predict(X_test)\n",
        "\n",
        "# Calculate metrics\n",
        "precision = precision_score(y_test, y_pred)\n",
        "recall = recall_score(y_test, y_pred)\n",
        "f1 = f1_score(y_test, y_pred)\n",
        "\n",
        "# Print results\n",
        "print(f\"Precision: {precision:.2f}\")\n",
        "print(f\"Recall: {recall:.2f}\")\n",
        "print(f\"F1-Score: {f1:.2f}\")"
      ],
      "metadata": {
        "id": "VqLKoHKg20lm",
        "colab": {
          "base_uri": "https://localhost:8080/"
        },
        "outputId": "89939e0b-6435-448b-8ae6-e79833d87fdb"
      },
      "execution_count": 21,
      "outputs": [
        {
          "output_type": "stream",
          "name": "stdout",
          "text": [
            "Precision: 0.92\n",
            "Recall: 1.00\n",
            "F1-Score: 0.96\n"
          ]
        }
      ]
    },
    {
      "cell_type": "code",
      "source": [
        "# 42. Write a Python program to train a Naïve Bayes Classifier and evaluate its performance using Log Loss (Cross-Entropy Loss)\n",
        "\n",
        "from sklearn.datasets import load_breast_cancer\n",
        "from sklearn.model_selection import train_test_split\n",
        "from sklearn.naive_bayes import GaussianNB\n",
        "from sklearn.metrics import log_loss\n",
        "\n",
        "# Load Breast Cancer dataset\n",
        "cancer = load_breast_cancer()\n",
        "X = cancer.data\n",
        "y = cancer.target\n",
        "\n",
        "# Split data\n",
        "X_train, X_test, y_train, y_test = train_test_split(X, y, test_size=0.2, random_state=42)\n",
        "\n",
        "# Train Gaussian NB\n",
        "gnb = GaussianNB()\n",
        "gnb.fit(X_train, y_train)\n",
        "\n",
        "# Predict probabilities\n",
        "y_prob = gnb.predict_proba(X_test)\n",
        "\n",
        "# Calculate Log Loss\n",
        "logloss = log_loss(y_test, y_prob)\n",
        "print(f\"Log Loss of Gaussian NB: {logloss:.2f}\")"
      ],
      "metadata": {
        "id": "_CSMBKW020Xm",
        "colab": {
          "base_uri": "https://localhost:8080/"
        },
        "outputId": "cb667994-f55b-4d1a-e7ee-997e34d45e9c"
      },
      "execution_count": 22,
      "outputs": [
        {
          "output_type": "stream",
          "name": "stdout",
          "text": [
            "Log Loss of Gaussian NB: 0.20\n"
          ]
        }
      ]
    },
    {
      "cell_type": "code",
      "source": [
        "# 43. Write a Python program to train an SVM Classifier and visualize the Confusion Matrix using seaborn\n",
        "\n",
        "import seaborn as sns\n",
        "import matplotlib.pyplot as plt\n",
        "from sklearn.datasets import load_iris\n",
        "from sklearn.model_selection import train_test_split\n",
        "from sklearn.svm import SVC\n",
        "from sklearn.metrics import confusion_matrix\n",
        "\n",
        "# Load Iris dataset\n",
        "iris = load_iris()\n",
        "X = iris.data\n",
        "y = iris.target\n",
        "\n",
        "# Split data\n",
        "X_train, X_test, y_train, y_test = train_test_split(X, y, test_size=0.2, random_state=42)\n",
        "\n",
        "# Train SVM\n",
        "svm = SVC(kernel='rbf', random_state=42)\n",
        "svm.fit(X_train, y_train)\n",
        "y_pred = svm.predict(X_test)\n",
        "\n",
        "# Compute confusion matrix\n",
        "cm = confusion_matrix(y_test, y_pred)\n",
        "\n",
        "# Plot confusion matrix\n",
        "plt.figure(figsize=(8, 6))\n",
        "sns.heatmap(cm, annot=True, fmt='d', cmap='Blues', xticklabels=iris.target_names, yticklabels=iris.target_names)\n",
        "plt.xlabel('Predicted')\n",
        "plt.ylabel('True')\n",
        "plt.title('Confusion Matrix for SVM on Iris Dataset')\n",
        "plt.show()"
      ],
      "metadata": {
        "id": "Ad2FX9nx20JB",
        "colab": {
          "base_uri": "https://localhost:8080/",
          "height": 564
        },
        "outputId": "b1f1ac6d-8e5a-4905-9110-6e4f00606f8b"
      },
      "execution_count": 23,
      "outputs": [
        {
          "output_type": "display_data",
          "data": {
            "text/plain": [
              "<Figure size 800x600 with 2 Axes>"
            ],
            "image/png": "[encoded data removed]"
          },
          "metadata": {}
        }
      ]
    },
    {
      "cell_type": "code",
      "source": [
        "# 44. Write a Python program to train an SVM Regressor (SVR) and evaluate its performance using Mean Absolute Error (MAE) instead of MSE\n",
        "\n",
        "from sklearn.datasets import fetch_california_housing\n",
        "from sklearn.model_selection import train_test_split\n",
        "from sklearn.svm import SVR\n",
        "from sklearn.preprocessing import StandardScaler\n",
        "from sklearn.metrics import mean_absolute_error\n",
        "\n",
        "# Load California Housing dataset\n",
        "housing = fetch_california_housing()\n",
        "X = housing.data\n",
        "y = housing.target\n",
        "\n",
        "# Scale features\n",
        "scaler = StandardScaler()\n",
        "X_scaled = scaler.fit_transform(X)\n",
        "\n",
        "# Split data\n",
        "X_train, X_test, y_train, y_test = train_test_split(X_scaled, y, test_size=0.2, random_state=42)\n",
        "\n",
        "# Train SVR\n",
        "svr = SVR(kernel='rbf')\n",
        "svr.fit(X_train, y_train)\n",
        "\n",
        "# Predict and evaluate\n",
        "y_pred = svr.predict(X_test)\n",
        "mae = mean_absolute_error(y_test, y_pred)\n",
        "print(f\"Mean Absolute Error of SVR: {mae:.2f}\")"
      ],
      "metadata": {
        "id": "RssV9lUX2z1H",
        "colab": {
          "base_uri": "https://localhost:8080/"
        },
        "outputId": "e29f2414-a922-488b-b644-b73308ea5e39"
      },
      "execution_count": 24,
      "outputs": [
        {
          "output_type": "stream",
          "name": "stdout",
          "text": [
            "Mean Absolute Error of SVR: 0.40\n"
          ]
        }
      ]
    },
    {
      "cell_type": "code",
      "source": [
        "# 45.Write a Python program to train a Naïve Bayes classifier and evaluate its performance using the ROC-AUC score\n",
        "\n",
        "from sklearn.datasets import load_breast_cancer\n",
        "from sklearn.model_selection import train_test_split\n",
        "from sklearn.naive_bayes import GaussianNB\n",
        "from sklearn.metrics import roc_auc_score\n",
        "\n",
        "# Load Breast Cancer dataset\n",
        "cancer = load_breast_cancer()\n",
        "X = cancer.data\n",
        "y = cancer.target\n",
        "\n",
        "# Split data\n",
        "X_train, X_test, y_train, y_test = train_test_split(X, y, test_size=0.2, random_state=42)\n",
        "\n",
        "# Train Gaussian NB\n",
        "gnb = GaussianNB()\n",
        "gnb.fit(X_train, y_train)\n",
        "\n",
        "# Predict probabilities\n",
        "y_prob = gnb.predict_proba(X_test)[:, 1]\n",
        "\n",
        "# Calculate ROC-AUC\n",
        "roc_auc = roc_auc_score(y_test, y_prob)\n",
        "print(f\"ROC-AUC Score of Gaussian NB: {roc_auc:.2f}\")"
      ],
      "metadata": {
        "id": "oaUewTQ42zou",
        "colab": {
          "base_uri": "https://localhost:8080/"
        },
        "outputId": "89b34685-3abe-4a37-b01e-5e324a79338b"
      },
      "execution_count": 25,
      "outputs": [
        {
          "output_type": "stream",
          "name": "stdout",
          "text": [
            "ROC-AUC Score of Gaussian NB: 1.00\n"
          ]
        }
      ]
    },
    {
      "cell_type": "code",
      "source": [
        "# 46. Write a Python program to train an SVM Classifier and visualize the Precision-Recall Curve.\n",
        "\n",
        "import matplotlib.pyplot as plt\n",
        "from sklearn.datasets import load_breast_cancer\n",
        "from sklearn.model_selection import train_test_split\n",
        "from sklearn.svm import SVC\n",
        "from sklearn.metrics import precision_recall_curve\n",
        "\n",
        "# Load Breast Cancer dataset\n",
        "cancer = load_breast_cancer()\n",
        "X = cancer.data\n",
        "y = cancer.target\n",
        "\n",
        "# Split data\n",
        "X_train, X_test, y_train, y_test = train_test_split(X, y, test_size=0.2, random_state=42)\n",
        "\n",
        "# Train SVM\n",
        "svm = SVC(kernel='rbf', probability=True, random_state=42)\n",
        "svm.fit(X_train, y_train)\n",
        "\n",
        "# Predict probabilities\n",
        "y_prob = svm.predict_proba(X_test)[:, 1]\n",
        "\n",
        "# Compute Precision-Recall curve\n",
        "precision, recall, _ = precision_recall_curve(y_test, y_prob)\n",
        "\n",
        "# Plot curve\n",
        "plt.figure(figsize=(8, 6))\n",
        "plt.plot(recall, precision, label='SVM Precision-Recall Curve')\n",
        "plt.xlabel('Recall')\n",
        "plt.ylabel('Precision')\n",
        "plt.title('Precision-Recall Curve for SVM on Breast Cancer Dataset')\n",
        "plt.legend()\n",
        "plt.show()"
      ],
      "metadata": {
        "id": "fI9aIIiN2zc7",
        "colab": {
          "base_uri": "https://localhost:8080/",
          "height": 564
        },
        "outputId": "7baa8b3a-0419-4eb0-a662-89b1d76d4ae5"
      },
      "execution_count": 26,
      "outputs": [
        {
          "output_type": "display_data",
          "data": {
            "text/plain": [
              "<Figure size 800x600 with 1 Axes>"
            ],
            "image/png": "[encoded data removed]"
          },
          "metadata": {}
        }
      ]
    },
    {
      "cell_type": "code",
      "source": [
        "\n",
        "\n",
        "\n",
        "\n",
        "\n",
        "\n",
        "\n",
        "\n"
      ],
      "metadata": {
        "id": "Wd4DjlC95vi6"
      },
      "execution_count": null,
      "outputs": []
    }
  ]
}